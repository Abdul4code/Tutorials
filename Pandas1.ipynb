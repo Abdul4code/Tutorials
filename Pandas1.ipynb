{
 "cells": [
  {
   "cell_type": "markdown",
   "id": "21ecd067",
   "metadata": {},
   "source": [
    "# PANDAS"
   ]
  },
  {
   "cell_type": "markdown",
   "id": "923e2e0f",
   "metadata": {},
   "source": [
    "### What are libraries? \n",
    "\n",
    "A programming library is a collection of prewritten code that programmers can use to optimize tasks. "
   ]
  },
  {
   "cell_type": "markdown",
   "id": "45db1e25",
   "metadata": {},
   "source": [
    "<img src='NN1.jpg' style=\"border-radius: 10px\"/>"
   ]
  },
  {
   "cell_type": "markdown",
   "id": "c2989979",
   "metadata": {},
   "source": [
    "## Introduction to Pandas\n",
    "\n",
    "\n",
    "Built on top of NumPy, pandas is a package for data manipulation and analysis in Python. The name pandas is derived from the econometrics term Panel Data. Pandas incorporates two additional data structures into Python, namely pandas Series and pandas DataFrames. These data structures allow us to work with labeled and relational data in an easy and intuitive manner. This lesson is intended as a basic overview of pandas and introduces some of its most important features."
   ]
  },
  {
   "cell_type": "markdown",
   "id": "5268cbfa",
   "metadata": {},
   "source": [
    "In this lesson you will learn:\n",
    "\n",
    "1. How to import pandas\n",
    "\n",
    "2. How to create pandas Series and DataFrames using various methods\n",
    "\n",
    "3. How to access and change elements in Series and DataFrames\n",
    "\n",
    "4. How to perform arithmetic operations on Series\n",
    "\n",
    "5. How to load data into a DataFrame\n",
    "\n",
    "6. How to deal with Not a Number (NaN) values"
   ]
  },
  {
   "cell_type": "markdown",
   "id": "f931da64",
   "metadata": {},
   "source": [
    "Link to Pandas Documentation: https://pandas.pydata.org/pandas-docs/stable/"
   ]
  },
  {
   "cell_type": "markdown",
   "id": "f5298e05",
   "metadata": {},
   "source": [
    "## Why Use Pandas?\n",
    "\n",
    "The recent success of machine learning algorithms is partly due to the huge amounts of data that we have available to train our algorithms on. However, when it comes to data, quantity is not the only thing that matters, the quality of your data is just as important. \n",
    "\n",
    "It often happens that large datasets don’t come ready to be fed into your learning algorithms. More often than not, large datasets will often have missing values, outliers, incorrect values, etc. Having data with a lot of missing or bad values, for example, is not going to allow your machine learning algorithms to perform well. Therefore, one very important step in machine learning is to look at your data first and make sure it is well suited for your training algorithm by doing some basic data analysis. \n",
    "\n",
    "This is where pandas come in. Pandas Series and DataFrames are designed for fast data analysis and manipulation, as well as being flexible and easy to use."
   ]
  },
  {
   "cell_type": "markdown",
   "id": "5df1fbdc",
   "metadata": {},
   "source": [
    "## Data structures in Pandas\n",
    "\n",
    "1. Pandas series\n",
    "\n",
    "2. Pandas DataFrame"
   ]
  },
  {
   "cell_type": "markdown",
   "id": "70cff816",
   "metadata": {},
   "source": [
    "### Pandas Series"
   ]
  },
  {
   "cell_type": "markdown",
   "id": "986283f5",
   "metadata": {},
   "source": [
    "First things first, you need to install and import pandas"
   ]
  },
  {
   "cell_type": "code",
   "execution_count": 2,
   "id": "3284fae5",
   "metadata": {},
   "outputs": [],
   "source": [
    "#pip install pandas\n",
    "import pandas as pd"
   ]
  },
  {
   "cell_type": "markdown",
   "id": "8c8065a5",
   "metadata": {},
   "source": [
    "A pandas series is a one-dimensional array-like object that can hold many data types, such as numbers or strings, and has an option to provide axis labels."
   ]
  },
  {
   "cell_type": "markdown",
   "id": "5a4bfc7f",
   "metadata": {},
   "source": [
    "## Creating a Pandas series"
   ]
  },
  {
   "cell_type": "code",
   "execution_count": 5,
   "id": "3b732a57",
   "metadata": {},
   "outputs": [
    {
     "data": {
      "text/plain": [
       "0      eggs\n",
       "1    apples\n",
       "2      milk\n",
       "3     bread\n",
       "dtype: object"
      ]
     },
     "execution_count": 5,
     "metadata": {},
     "output_type": "execute_result"
    }
   ],
   "source": [
    "# We create a pandas Series that stores a grocery list\n",
    "groceries = pd.Series( data = ['eggs', 'apples', 'milk', 'bread'], index = [0,1,2,3])\n",
    "\n",
    "# We display the groceries pandas Series\n",
    "groceries"
   ]
  },
  {
   "cell_type": "markdown",
   "id": "3dee08da",
   "metadata": {},
   "source": [
    "We see that pandas Series are displayed with the indices in the first column and the data in the second column. Also, notice that the data in our pandas Series has both integers and strings."
   ]
  },
  {
   "cell_type": "code",
   "execution_count": 3,
   "id": "2f6cf383",
   "metadata": {},
   "outputs": [
    {
     "data": {
      "text/plain": [
       "(4,)"
      ]
     },
     "execution_count": 3,
     "metadata": {},
     "output_type": "execute_result"
    }
   ],
   "source": [
    "groceries.shape"
   ]
  },
  {
   "cell_type": "code",
   "execution_count": 4,
   "id": "3b26bd4b",
   "metadata": {},
   "outputs": [
    {
     "data": {
      "text/plain": [
       "1"
      ]
     },
     "execution_count": 4,
     "metadata": {},
     "output_type": "execute_result"
    }
   ],
   "source": [
    "groceries.ndim"
   ]
  },
  {
   "cell_type": "code",
   "execution_count": 5,
   "id": "1d3237f3",
   "metadata": {},
   "outputs": [
    {
     "data": {
      "text/plain": [
       "4"
      ]
     },
     "execution_count": 5,
     "metadata": {},
     "output_type": "execute_result"
    }
   ],
   "source": [
    "groceries.size"
   ]
  },
  {
   "cell_type": "code",
   "execution_count": 6,
   "id": "b8b57425",
   "metadata": {},
   "outputs": [
    {
     "data": {
      "text/plain": [
       "Index([0, 1, 2, 3], dtype='int64')"
      ]
     },
     "execution_count": 6,
     "metadata": {},
     "output_type": "execute_result"
    }
   ],
   "source": [
    "# To obtain the index\n",
    "groceries.index"
   ]
  },
  {
   "cell_type": "code",
   "execution_count": 7,
   "id": "06a9c81d",
   "metadata": {},
   "outputs": [
    {
     "data": {
      "text/plain": [
       "array(['eggs', 'apples', 'milk', 'bread'], dtype=object)"
      ]
     },
     "execution_count": 7,
     "metadata": {},
     "output_type": "execute_result"
    }
   ],
   "source": [
    "# To obtain the data\n",
    "groceries.values"
   ]
  },
  {
   "cell_type": "code",
   "execution_count": 8,
   "id": "3910e7f3",
   "metadata": {},
   "outputs": [
    {
     "data": {
      "text/plain": [
       "False"
      ]
     },
     "execution_count": 8,
     "metadata": {},
     "output_type": "execute_result"
    }
   ],
   "source": [
    "4 in groceries"
   ]
  },
  {
   "cell_type": "code",
   "execution_count": 9,
   "id": "6ef22a48",
   "metadata": {},
   "outputs": [
    {
     "data": {
      "text/plain": [
       "True"
      ]
     },
     "execution_count": 9,
     "metadata": {},
     "output_type": "execute_result"
    }
   ],
   "source": [
    "3 in groceries"
   ]
  },
  {
   "cell_type": "code",
   "execution_count": 10,
   "id": "ab90722d",
   "metadata": {},
   "outputs": [
    {
     "data": {
      "text/plain": [
       "dtype('O')"
      ]
     },
     "execution_count": 10,
     "metadata": {},
     "output_type": "execute_result"
    }
   ],
   "source": [
    "groceries.dtype"
   ]
  },
  {
   "cell_type": "code",
   "execution_count": 11,
   "id": "88b3b352",
   "metadata": {},
   "outputs": [
    {
     "data": {
      "text/plain": [
       "0      eggs\n",
       "1    apples\n",
       "2      milk\n",
       "3     bread\n",
       "dtype: object"
      ]
     },
     "execution_count": 11,
     "metadata": {},
     "output_type": "execute_result"
    }
   ],
   "source": [
    "groceries"
   ]
  },
  {
   "cell_type": "markdown",
   "id": "e1a39b5b",
   "metadata": {},
   "source": [
    "## Accessing and Deleting Elements in Pandas Series"
   ]
  },
  {
   "cell_type": "code",
   "execution_count": 12,
   "id": "22b465b9",
   "metadata": {},
   "outputs": [
    {
     "data": {
      "text/plain": [
       "Toyota    2500\n",
       "Ford      3400\n",
       "KIA       2785\n",
       "dtype: int64"
      ]
     },
     "execution_count": 12,
     "metadata": {},
     "output_type": "execute_result"
    }
   ],
   "source": [
    "cars = pd.Series(data=[2500, 3400, 2785], index=['Toyota', 'Ford', 'KIA'],)\n",
    "cars"
   ]
  },
  {
   "cell_type": "code",
   "execution_count": 13,
   "id": "5868bc2b",
   "metadata": {},
   "outputs": [
    {
     "data": {
      "text/plain": [
       "3400"
      ]
     },
     "execution_count": 13,
     "metadata": {},
     "output_type": "execute_result"
    }
   ],
   "source": [
    "#Accesing with index labels\n",
    "cars['Ford']"
   ]
  },
  {
   "cell_type": "code",
   "execution_count": 14,
   "id": "519d1530",
   "metadata": {},
   "outputs": [
    {
     "data": {
      "text/plain": [
       "Ford      3400\n",
       "Toyota    2500\n",
       "dtype: int64"
      ]
     },
     "execution_count": 14,
     "metadata": {},
     "output_type": "execute_result"
    }
   ],
   "source": [
    "#Accessing with a list of index labels\n",
    "cars[['Ford', 'Toyota']]"
   ]
  },
  {
   "cell_type": "code",
   "execution_count": 15,
   "id": "b4317a93",
   "metadata": {},
   "outputs": [
    {
     "data": {
      "text/plain": [
       "2500"
      ]
     },
     "execution_count": 15,
     "metadata": {},
     "output_type": "execute_result"
    }
   ],
   "source": [
    "# Accessing with numeric indices\n",
    "cars[0]"
   ]
  },
  {
   "cell_type": "code",
   "execution_count": 16,
   "id": "ffb6af0f",
   "metadata": {},
   "outputs": [
    {
     "data": {
      "text/plain": [
       "2785"
      ]
     },
     "execution_count": 16,
     "metadata": {},
     "output_type": "execute_result"
    }
   ],
   "source": [
    "cars[-1]"
   ]
  },
  {
   "cell_type": "code",
   "execution_count": 17,
   "id": "96b4bd6c",
   "metadata": {},
   "outputs": [
    {
     "data": {
      "text/plain": [
       "Ford    3400\n",
       "KIA     2785\n",
       "dtype: int64"
      ]
     },
     "execution_count": 17,
     "metadata": {},
     "output_type": "execute_result"
    }
   ],
   "source": [
    "cars[[1,2]]"
   ]
  },
  {
   "cell_type": "markdown",
   "id": "bd45ab92",
   "metadata": {},
   "source": [
    "### loc and iloc"
   ]
  },
  {
   "cell_type": "markdown",
   "id": "973229c2",
   "metadata": {},
   "source": [
    "They are pandas series attribute for accessing data"
   ]
  },
  {
   "cell_type": "markdown",
   "id": "ec7abad4",
   "metadata": {},
   "source": [
    "loc- location: accessing with index labels\n",
    "\n",
    "iloc - Integer location: accesing with numeric indices"
   ]
  },
  {
   "cell_type": "code",
   "execution_count": 32,
   "id": "2e7f9e53",
   "metadata": {},
   "outputs": [
    {
     "data": {
      "text/plain": [
       "2889"
      ]
     },
     "execution_count": 32,
     "metadata": {},
     "output_type": "execute_result"
    }
   ],
   "source": [
    "cars.loc['Ford']"
   ]
  },
  {
   "cell_type": "code",
   "execution_count": 30,
   "id": "20c7ae94",
   "metadata": {},
   "outputs": [
    {
     "data": {
      "text/plain": [
       "2785"
      ]
     },
     "execution_count": 30,
     "metadata": {},
     "output_type": "execute_result"
    }
   ],
   "source": [
    "cars.iloc[1]"
   ]
  },
  {
   "cell_type": "markdown",
   "id": "0a3a2a96",
   "metadata": {},
   "source": [
    "### Mutability"
   ]
  },
  {
   "cell_type": "code",
   "execution_count": 18,
   "id": "ad991bd9",
   "metadata": {},
   "outputs": [],
   "source": [
    "cars['Ford'] = 2889"
   ]
  },
  {
   "cell_type": "code",
   "execution_count": 19,
   "id": "9b5ef5d1",
   "metadata": {},
   "outputs": [
    {
     "data": {
      "text/plain": [
       "Toyota    2500\n",
       "Ford      2889\n",
       "KIA       2785\n",
       "dtype: int64"
      ]
     },
     "execution_count": 19,
     "metadata": {},
     "output_type": "execute_result"
    }
   ],
   "source": [
    "cars"
   ]
  },
  {
   "cell_type": "markdown",
   "id": "17fa01d8",
   "metadata": {},
   "source": [
    "### Dropping elements"
   ]
  },
  {
   "cell_type": "code",
   "execution_count": 20,
   "id": "a1ea295e",
   "metadata": {},
   "outputs": [
    {
     "data": {
      "text/plain": [
       "Ford    2889\n",
       "KIA     2785\n",
       "dtype: int64"
      ]
     },
     "execution_count": 20,
     "metadata": {},
     "output_type": "execute_result"
    }
   ],
   "source": [
    "cars.drop('Toyota')"
   ]
  },
  {
   "cell_type": "code",
   "execution_count": 21,
   "id": "3430a334",
   "metadata": {},
   "outputs": [
    {
     "data": {
      "text/plain": [
       "Toyota    2500\n",
       "Ford      2889\n",
       "KIA       2785\n",
       "dtype: int64"
      ]
     },
     "execution_count": 21,
     "metadata": {},
     "output_type": "execute_result"
    }
   ],
   "source": [
    "# That was out of place\n",
    "cars"
   ]
  },
  {
   "cell_type": "code",
   "execution_count": 22,
   "id": "0e3472bd",
   "metadata": {},
   "outputs": [],
   "source": [
    "# For inplace\n",
    "cars.drop('Toyota', inplace = True)"
   ]
  },
  {
   "cell_type": "code",
   "execution_count": 23,
   "id": "4f768ccc",
   "metadata": {},
   "outputs": [
    {
     "data": {
      "text/plain": [
       "Ford    2889\n",
       "KIA     2785\n",
       "dtype: int64"
      ]
     },
     "execution_count": 23,
     "metadata": {},
     "output_type": "execute_result"
    }
   ],
   "source": [
    "cars"
   ]
  },
  {
   "cell_type": "markdown",
   "id": "3925e9a5",
   "metadata": {},
   "source": [
    "## Arithmetic Operations on Pandas Series\n"
   ]
  },
  {
   "cell_type": "code",
   "execution_count": 33,
   "id": "2937661a",
   "metadata": {},
   "outputs": [
    {
     "data": {
      "text/plain": [
       "apples     10\n",
       "oranges     6\n",
       "bananas     3\n",
       "dtype: int64"
      ]
     },
     "execution_count": 33,
     "metadata": {},
     "output_type": "execute_result"
    }
   ],
   "source": [
    "# We create a pandas Series that stores a grocery list of just fruits\n",
    "fruits= pd.Series(data = [10, 6, 3,], index = ['apples', 'oranges', 'bananas'])\n",
    "\n",
    "# We display the fruits pandas Series\n",
    "fruits"
   ]
  },
  {
   "cell_type": "code",
   "execution_count": 34,
   "id": "bde87ef0",
   "metadata": {},
   "outputs": [
    {
     "data": {
      "text/plain": [
       "apples     20\n",
       "oranges    12\n",
       "bananas     6\n",
       "dtype: int64"
      ]
     },
     "execution_count": 34,
     "metadata": {},
     "output_type": "execute_result"
    }
   ],
   "source": [
    "fruits * 2"
   ]
  },
  {
   "cell_type": "code",
   "execution_count": 36,
   "id": "3ecc4fca",
   "metadata": {},
   "outputs": [
    {
     "data": {
      "text/plain": [
       "apples     10\n",
       "oranges     6\n",
       "bananas     3\n",
       "dtype: int64"
      ]
     },
     "execution_count": 36,
     "metadata": {},
     "output_type": "execute_result"
    }
   ],
   "source": [
    "fruits "
   ]
  },
  {
   "cell_type": "code",
   "execution_count": 39,
   "id": "ed36999e",
   "metadata": {},
   "outputs": [
    {
     "data": {
      "text/plain": [
       "apples     8\n",
       "oranges    4\n",
       "bananas    1\n",
       "dtype: int64"
      ]
     },
     "execution_count": 39,
     "metadata": {},
     "output_type": "execute_result"
    }
   ],
   "source": [
    "fruits - 2"
   ]
  },
  {
   "cell_type": "code",
   "execution_count": 40,
   "id": "42439148",
   "metadata": {},
   "outputs": [
    {
     "data": {
      "text/plain": [
       "apples     5.0\n",
       "oranges    3.0\n",
       "bananas    1.5\n",
       "dtype: float64"
      ]
     },
     "execution_count": 40,
     "metadata": {},
     "output_type": "execute_result"
    }
   ],
   "source": [
    "fruits / 2"
   ]
  },
  {
   "cell_type": "code",
   "execution_count": 41,
   "id": "171c5182",
   "metadata": {},
   "outputs": [
    {
     "data": {
      "text/plain": [
       "1"
      ]
     },
     "execution_count": 41,
     "metadata": {},
     "output_type": "execute_result"
    }
   ],
   "source": [
    "fruits['bananas'] -2"
   ]
  },
  {
   "cell_type": "code",
   "execution_count": 42,
   "id": "885a15d5",
   "metadata": {},
   "outputs": [
    {
     "data": {
      "text/plain": [
       "1"
      ]
     },
     "execution_count": 42,
     "metadata": {},
     "output_type": "execute_result"
    }
   ],
   "source": [
    "fruits.loc['bananas'] -2"
   ]
  },
  {
   "cell_type": "code",
   "execution_count": 43,
   "id": "645277aa",
   "metadata": {},
   "outputs": [
    {
     "data": {
      "text/plain": [
       "4"
      ]
     },
     "execution_count": 43,
     "metadata": {},
     "output_type": "execute_result"
    }
   ],
   "source": [
    "fruits[1] -2"
   ]
  },
  {
   "cell_type": "code",
   "execution_count": 46,
   "id": "d986ed89",
   "metadata": {},
   "outputs": [
    {
     "data": {
      "text/plain": [
       "4"
      ]
     },
     "execution_count": 46,
     "metadata": {},
     "output_type": "execute_result"
    }
   ],
   "source": [
    "fruits.iloc[1] - 2"
   ]
  },
  {
   "cell_type": "code",
   "execution_count": 47,
   "id": "c4a92c9e",
   "metadata": {},
   "outputs": [
    {
     "data": {
      "text/plain": [
       "apples     20\n",
       "oranges    12\n",
       "dtype: int64"
      ]
     },
     "execution_count": 47,
     "metadata": {},
     "output_type": "execute_result"
    }
   ],
   "source": [
    "fruits.iloc[[0,1]] *2"
   ]
  },
  {
   "cell_type": "code",
   "execution_count": 48,
   "id": "5535b1b4",
   "metadata": {},
   "outputs": [],
   "source": [
    "# We create a pandas Series that stores a grocery list\n",
    "groceries = pd.Series( data = ['eggs', 'apples', 'milk', 'bread'], index = [0,1,2,3],)"
   ]
  },
  {
   "cell_type": "code",
   "execution_count": 49,
   "id": "513f4b7c",
   "metadata": {},
   "outputs": [
    {
     "data": {
      "text/plain": [
       "0        eggseggs\n",
       "1    applesapples\n",
       "2        milkmilk\n",
       "3      breadbread\n",
       "dtype: object"
      ]
     },
     "execution_count": 49,
     "metadata": {},
     "output_type": "execute_result"
    }
   ],
   "source": [
    "groceries * 2"
   ]
  },
  {
   "cell_type": "markdown",
   "id": "cb8c95e8",
   "metadata": {},
   "source": [
    "# CLASS WORK"
   ]
  },
  {
   "cell_type": "code",
   "execution_count": 7,
   "id": "960a5374",
   "metadata": {},
   "outputs": [],
   "source": [
    "# DO NOT CHANGE THE VARIABLE NAMES\n",
    "\n",
    "# Given a list representing a few planets\n",
    "planets = ['Earth', 'Saturn', 'Venus', 'Mars', 'Jupiter']\n",
    "\n",
    "\n",
    "\n",
    "# Given another list representing the distance of each of these planets from the Sun\n",
    "# The distance from the Sun is in units of 10^6 km\n",
    "distance_from_sun = [149.6, 1433.5, 108.2, 227.9, 778.6]"
   ]
  },
  {
   "cell_type": "code",
   "execution_count": 8,
   "id": "8810f17e",
   "metadata": {},
   "outputs": [],
   "source": [
    "# TO DO: Create a Pandas Series \"dist_planets\" using the lists above, representing the distance of the planet from the Sun.\n",
    "# Use the `distance_from_sun` as your data, and `planets` as your index.\n",
    "dist_planets = pd.Series(data = distance_from_sun, index =planets )"
   ]
  },
  {
   "cell_type": "code",
   "execution_count": 9,
   "id": "056dfb47",
   "metadata": {},
   "outputs": [
    {
     "data": {
      "text/plain": [
       "Earth       149.6\n",
       "Saturn     1433.5\n",
       "Venus       108.2\n",
       "Mars        227.9\n",
       "Jupiter     778.6\n",
       "dtype: float64"
      ]
     },
     "execution_count": 9,
     "metadata": {},
     "output_type": "execute_result"
    }
   ],
   "source": [
    "dist_planets"
   ]
  },
  {
   "cell_type": "code",
   "execution_count": 10,
   "id": "794469d0",
   "metadata": {},
   "outputs": [
    {
     "data": {
      "text/plain": [
       "Earth       8.311111\n",
       "Saturn     79.638889\n",
       "Venus       6.011111\n",
       "Mars       12.661111\n",
       "Jupiter    43.255556\n",
       "dtype: float64"
      ]
     },
     "execution_count": 10,
     "metadata": {},
     "output_type": "execute_result"
    }
   ],
   "source": [
    "# TO DO: Calculate the time (minutes) it takes light from the Sun to reach each planet. \n",
    "# You can do this by dividing each planet's distance from the Sun by the speed of light.\n",
    "# Use the speed of light, c = 18, since light travels 18 x 10^6 km/minute.\n",
    "time = dist_planets /18\n",
    "time"
   ]
  },
  {
   "cell_type": "code",
   "execution_count": 13,
   "id": "6b3aea2c",
   "metadata": {},
   "outputs": [
    {
     "data": {
      "text/plain": [
       "Earth     8.311111\n",
       "Venus     6.011111\n",
       "Mars     12.661111\n",
       "dtype: float64"
      ]
     },
     "execution_count": 13,
     "metadata": {},
     "output_type": "execute_result"
    }
   ],
   "source": [
    "# TO DO: Use Boolean indexing to select only those planets for which sunlight takes less\n",
    "# than 40 minutes to reach them.\n",
    "# We'll check your work by printing out these close planets.\n",
    "low_time = time[time <40]\n",
    "low_time"
   ]
  },
  {
   "cell_type": "code",
   "execution_count": null,
   "id": "55843a91",
   "metadata": {},
   "outputs": [],
   "source": []
  }
 ],
 "metadata": {
  "kernelspec": {
   "display_name": "Python 3 (ipykernel)",
   "language": "python",
   "name": "python3"
  },
  "language_info": {
   "codemirror_mode": {
    "name": "ipython",
    "version": 3
   },
   "file_extension": ".py",
   "mimetype": "text/x-python",
   "name": "python",
   "nbconvert_exporter": "python",
   "pygments_lexer": "ipython3",
   "version": "3.11.3"
  }
 },
 "nbformat": 4,
 "nbformat_minor": 5
}
