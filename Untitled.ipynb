{
 "cells": [
  {
   "cell_type": "markdown",
   "id": "b565dd47",
   "metadata": {},
   "source": [
    "<h1 style=\"font-size: 40pt; background-image: url('images/bg2.png')\n",
    "           ; background-repeat: no-repeat; background-size: contain; padding: 25px 120px; color: blue; line-height: 0.7\"> \n",
    "    Vnicom Hub <br>\n",
    "    <span style=\"color: black; display: inline-block; font-size: 20pt; margin-top: -100px\"> Data Science with Python - Week 2 </span>\n",
    "</h1>"
   ]
  },
  {
   "cell_type": "markdown",
   "id": "cb14b476",
   "metadata": {},
   "source": [
    "### BOOLEAN VALUES "
   ]
  },
  {
   "cell_type": "markdown",
   "id": "ce3a5aa6",
   "metadata": {},
   "source": [
    "From the last week class, we learnt that in python we have different data types such as the integer (i.e 5, 7, 1000, 230 etc), float (7.35, 2.98, 9.32 etc) and string ('Abdul', 'Cup', 'R7' etc) data types. There is one other important data type in python which are the Boolean types. Boolean type contains just two values, True and False. Note that the boolean values, unlike strings, are not enclosed with the quotation marks and the first letter is always capital."
   ]
  },
  {
   "cell_type": "code",
   "execution_count": 1,
   "id": "b972025c",
   "metadata": {},
   "outputs": [
    {
     "name": "stdout",
     "output_type": "stream",
     "text": [
      "True\n",
      "False\n"
     ]
    }
   ],
   "source": [
    "x = True\n",
    "y = False\n",
    "\n",
    "print(x)\n",
    "print(y)"
   ]
  },
  {
   "cell_type": "markdown",
   "id": "582e40ff",
   "metadata": {},
   "source": [
    "### THE COMPARISON OPERATORS "
   ]
  },
  {
   "cell_type": "markdown",
   "id": "03737997",
   "metadata": {},
   "source": [
    "Boolean Operators allows us to compare two or more values or expressions. The result of boolean operators are always boolean values; True or False. "
   ]
  },
  {
   "cell_type": "markdown",
   "id": "ef4de1b6",
   "metadata": {},
   "source": [
    "<table>\n",
    "    <tr>\n",
    "        <thead>\n",
    "            <th> Operator </th>\n",
    "            <th> Name </th>\n",
    "            <th> Function </th>\n",
    "        </thead>\n",
    "    </tr>\n",
    "    <tr>\n",
    "        <td> == </td>\n",
    "        <td> Equal to </td>\n",
    "        <td> Check if two values are equal </td>\n",
    "    </tr>\n",
    "    <tr>\n",
    "        <td> != </td>\n",
    "        <td> Not Equal to </td>\n",
    "        <td> Check if two values are not equal </td>\n",
    "    </tr>\n",
    "    <tr>\n",
    "        <td> > </td>\n",
    "        <td> Greater than </td>\n",
    "        <td> Check if left value is greater than the right value </td>\n",
    "    </tr>\n",
    "    <tr>\n",
    "        <td> < </td>\n",
    "        <td> Less than </td>\n",
    "        <td> Check if left value is less than the right value </td>\n",
    "    </tr>\n",
    "    <tr>\n",
    "        <td> >= </td>\n",
    "        <td> Greater than or equal to </td>\n",
    "        <td> Check if left value is greater than or is equal to the right value </td>\n",
    "    </tr>\n",
    "    <tr>\n",
    "        <td> <= </td>\n",
    "        <td> Less than or Equal to  </td>\n",
    "        <td> Check if left value is less than or equal to the right value </td>\n",
    "    </tr>\n",
    "</table>"
   ]
  },
  {
   "cell_type": "markdown",
   "id": "53612c63",
   "metadata": {},
   "source": [
    "#### Equal to Operator ( == )"
   ]
  },
  {
   "cell_type": "code",
   "execution_count": 2,
   "id": "135e053c",
   "metadata": {},
   "outputs": [
    {
     "name": "stdout",
     "output_type": "stream",
     "text": [
      "False\n"
     ]
    }
   ],
   "source": [
    "x = 7\n",
    "y = 4\n",
    "\n",
    "print(7 == 4)"
   ]
  },
  {
   "cell_type": "markdown",
   "id": "305576ec",
   "metadata": {},
   "source": [
    "In the example above, we use the == operator to compare if x is equal to y. Of course, they are not equal, 7 is not equal to 4 and python did a good job of printing false."
   ]
  },
  {
   "cell_type": "code",
   "execution_count": 3,
   "id": "dd75b8c1",
   "metadata": {},
   "outputs": [
    {
     "name": "stdout",
     "output_type": "stream",
     "text": [
      "False\n"
     ]
    }
   ],
   "source": [
    "animal1 = 'Dog'\n",
    "animal2 = 'Cat'\n",
    "\n",
    "print(animal1 == animal2)"
   ]
  },
  {
   "cell_type": "markdown",
   "id": "532ba69e",
   "metadata": {},
   "source": [
    "Animal1 is a Dog and animal2 is a cat. Two different strings. "
   ]
  },
  {
   "cell_type": "code",
   "execution_count": 5,
   "id": "aae2a7ac",
   "metadata": {},
   "outputs": [
    {
     "name": "stdout",
     "output_type": "stream",
     "text": [
      "True\n"
     ]
    }
   ],
   "source": [
    "x = (2 * 5) + 2\n",
    "y = 12\n",
    "\n",
    "print(x == y)"
   ]
  },
  {
   "cell_type": "markdown",
   "id": "52f174de",
   "metadata": {},
   "source": [
    "Please confirm if x is equal to y"
   ]
  },
  {
   "cell_type": "markdown",
   "id": "7b89b9bc",
   "metadata": {},
   "source": [
    "<p style=\"color:red\"> Notice the difference between equal to (==) comparison operator and the assignment operator (=). While a single = sign is used to assign a value to a variable, the double == sign is used to check if two values or expression are equal."
   ]
  },
  {
   "cell_type": "markdown",
   "id": "fd3fe395",
   "metadata": {},
   "source": [
    "#### Equal to Operator ( != )"
   ]
  },
  {
   "cell_type": "code",
   "execution_count": 4,
   "id": "5f1ac5a3",
   "metadata": {},
   "outputs": [
    {
     "name": "stdout",
     "output_type": "stream",
     "text": [
      "True\n"
     ]
    }
   ],
   "source": [
    "x = 7\n",
    "y = 4\n",
    "\n",
    "print(7 != 4)"
   ]
  },
  {
   "cell_type": "code",
   "execution_count": null,
   "id": "57ef59c6",
   "metadata": {},
   "outputs": [],
   "source": [
    "animal1 = 'Dog'\n",
    "animal2 = 'Cat'\n",
    "\n",
    "print(animal1 == animal2)"
   ]
  },
  {
   "cell_type": "code",
   "execution_count": 6,
   "id": "f15cc954",
   "metadata": {},
   "outputs": [
    {
     "name": "stdout",
     "output_type": "stream",
     "text": [
      "False\n"
     ]
    }
   ],
   "source": [
    "x = (2 * 5) + 2\n",
    "y = 12\n",
    "\n",
    "print(x != y)"
   ]
  },
  {
   "cell_type": "markdown",
   "id": "069e0970",
   "metadata": {},
   "source": [
    "When we switch the == sign to not equal to  != from our previous example, we get the opposite results."
   ]
  },
  {
   "cell_type": "markdown",
   "id": "2f932499",
   "metadata": {},
   "source": [
    "#### Greater than Operator ( > )"
   ]
  },
  {
   "cell_type": "code",
   "execution_count": 8,
   "id": "d3635d95",
   "metadata": {},
   "outputs": [
    {
     "name": "stdout",
     "output_type": "stream",
     "text": [
      "True\n"
     ]
    }
   ],
   "source": [
    "x = 7\n",
    "y = 4\n",
    "\n",
    "print(7 > 4)"
   ]
  },
  {
   "cell_type": "markdown",
   "id": "51f378b7",
   "metadata": {},
   "source": [
    "definately, 7 is greater than 4. So the result is expected."
   ]
  },
  {
   "cell_type": "code",
   "execution_count": 9,
   "id": "f2754563",
   "metadata": {},
   "outputs": [
    {
     "name": "stdout",
     "output_type": "stream",
     "text": [
      "False\n"
     ]
    }
   ],
   "source": [
    "x = (2 * 5) + 2\n",
    "y = 12\n",
    "\n",
    "print(x > y)"
   ]
  },
  {
   "cell_type": "markdown",
   "id": "72fa0eb2",
   "metadata": {},
   "source": [
    "We know that x is not greater than y. Rather they are equal. "
   ]
  },
  {
   "cell_type": "markdown",
   "id": "026c4185",
   "metadata": {},
   "source": [
    "#### Less than Operator ( < )"
   ]
  },
  {
   "cell_type": "code",
   "execution_count": 12,
   "id": "53a72f4b",
   "metadata": {},
   "outputs": [
    {
     "name": "stdout",
     "output_type": "stream",
     "text": [
      "False\n"
     ]
    }
   ],
   "source": [
    "x = 7\n",
    "y = 4\n",
    "\n",
    "print(x < y)"
   ]
  },
  {
   "cell_type": "code",
   "execution_count": 13,
   "id": "144fada4",
   "metadata": {},
   "outputs": [
    {
     "name": "stdout",
     "output_type": "stream",
     "text": [
      "True\n"
     ]
    }
   ],
   "source": [
    "x = 25 / 3\n",
    "y = 10 * 2\n",
    "\n",
    "print(x < y)"
   ]
  },
  {
   "cell_type": "markdown",
   "id": "79fe2e71",
   "metadata": {},
   "source": [
    "#### Greater than or Equal to Operator ( >= )\n",
    "\n",
    "This operator will evaluate to true if the value or expression on the left hand side is greater than the value on the right or if they are equal."
   ]
  },
  {
   "cell_type": "code",
   "execution_count": 15,
   "id": "12d3932c",
   "metadata": {},
   "outputs": [
    {
     "name": "stdout",
     "output_type": "stream",
     "text": [
      "True\n"
     ]
    }
   ],
   "source": [
    "x = 5\n",
    "y = 10 / 2\n",
    "\n",
    "print(x >= y)"
   ]
  },
  {
   "cell_type": "markdown",
   "id": "d10140d4",
   "metadata": {},
   "source": [
    "The result here is true because, the value x is not greather than y though but they are equal."
   ]
  },
  {
   "cell_type": "code",
   "execution_count": 16,
   "id": "b888c703",
   "metadata": {},
   "outputs": [
    {
     "name": "stdout",
     "output_type": "stream",
     "text": [
      "True\n"
     ]
    }
   ],
   "source": [
    "x = 15\n",
    "y = 10 / 2\n",
    "\n",
    "print(x >= y)"
   ]
  },
  {
   "cell_type": "markdown",
   "id": "656f31e3",
   "metadata": {},
   "source": [
    "Now, the value of x is greater than y. So we expect our result to still be true"
   ]
  },
  {
   "cell_type": "code",
   "execution_count": 19,
   "id": "3dbc15eb",
   "metadata": {},
   "outputs": [
    {
     "name": "stdout",
     "output_type": "stream",
     "text": [
      "False\n"
     ]
    }
   ],
   "source": [
    "x = 15\n",
    "y = 10 * 2\n",
    "\n",
    "print(x >= y)"
   ]
  },
  {
   "cell_type": "markdown",
   "id": "ab064f50",
   "metadata": {},
   "source": [
    "In this exaple, we expect the result to be false, because x is neither greater than or equal to y."
   ]
  },
  {
   "cell_type": "markdown",
   "id": "34b9f3ed",
   "metadata": {},
   "source": [
    "#### Less than or Equal to Operator ( <= )\n",
    "\n",
    "This operator will evaluate to true if the value or expression on the left hand side is less than the value on the right or if they are equal."
   ]
  },
  {
   "cell_type": "code",
   "execution_count": 21,
   "id": "87072e72",
   "metadata": {},
   "outputs": [
    {
     "name": "stdout",
     "output_type": "stream",
     "text": [
      "True\n"
     ]
    }
   ],
   "source": [
    "x = 5\n",
    "y = 10 / 2\n",
    "\n",
    "print(x <= y)"
   ]
  },
  {
   "cell_type": "markdown",
   "id": "f20c8dce",
   "metadata": {},
   "source": [
    "This is still true for same reason as before, it satisfies the equal to component of the comparison even when x is not less than"
   ]
  },
  {
   "cell_type": "code",
   "execution_count": 22,
   "id": "c3923af0",
   "metadata": {},
   "outputs": [
    {
     "name": "stdout",
     "output_type": "stream",
     "text": [
      "False\n"
     ]
    }
   ],
   "source": [
    "x = 15\n",
    "y = 10 / 2\n",
    "\n",
    "print(x <= y)"
   ]
  },
  {
   "cell_type": "markdown",
   "id": "286e9f58",
   "metadata": {},
   "source": [
    "In this exaple, we expect the result to be false, because x is neither less than or equal to y."
   ]
  },
  {
   "cell_type": "code",
   "execution_count": 23,
   "id": "2d97e61e",
   "metadata": {},
   "outputs": [
    {
     "name": "stdout",
     "output_type": "stream",
     "text": [
      "True\n"
     ]
    }
   ],
   "source": [
    "x = 15\n",
    "y = 10 * 2\n",
    "\n",
    "print(x <= y)"
   ]
  },
  {
   "cell_type": "markdown",
   "id": "405510cc",
   "metadata": {},
   "source": [
    "Now the result of the expression is True because x is less than y"
   ]
  },
  {
   "cell_type": "markdown",
   "id": "b7faaee0",
   "metadata": {},
   "source": [
    "# EXERCISES 1\n",
    "\n",
    "### Instruction\n",
    "All the expressions in this exercise will evaluate to False. Modify the values assigned to the variables for each of the expressions to evaluate to True. For an instance, if x = 7 and x > y is False, you can change the value of x to be 20 or any number of your choice which will make x > y True. <span style=\"color: red\"> Please do not change anything aside the values assigned to the variables.</span> "
   ]
  },
  {
   "cell_type": "code",
   "execution_count": 25,
   "id": "852ac153",
   "metadata": {},
   "outputs": [
    {
     "name": "stdout",
     "output_type": "stream",
     "text": [
      "False\n"
     ]
    }
   ],
   "source": [
    "x = 25\n",
    "y = 4\n",
    "\n",
    "print(x == y)"
   ]
  },
  {
   "cell_type": "code",
   "execution_count": 26,
   "id": "be569727",
   "metadata": {},
   "outputs": [
    {
     "name": "stdout",
     "output_type": "stream",
     "text": [
      "False\n"
     ]
    }
   ],
   "source": [
    "x = 4\n",
    "y = 12\n",
    "z = y / x\n",
    "\n",
    "print(z != 3)"
   ]
  },
  {
   "cell_type": "code",
   "execution_count": 27,
   "id": "bfacf3ba",
   "metadata": {},
   "outputs": [
    {
     "name": "stdout",
     "output_type": "stream",
     "text": [
      "False\n"
     ]
    }
   ],
   "source": [
    "x = 15\n",
    "y = x + 9\n",
    "z = y - 5\n",
    "\n",
    "print((x + z)  > (y + z))"
   ]
  },
  {
   "cell_type": "code",
   "execution_count": 29,
   "id": "f8d4cd07",
   "metadata": {},
   "outputs": [
    {
     "name": "stdout",
     "output_type": "stream",
     "text": [
      "False\n"
     ]
    }
   ],
   "source": [
    "x = 3 ** 2\n",
    "y = 9 / x\n",
    "z = y + 10\n",
    "\n",
    "print(z < x)"
   ]
  },
  {
   "cell_type": "code",
   "execution_count": 33,
   "id": "902495a7",
   "metadata": {},
   "outputs": [
    {
     "name": "stdout",
     "output_type": "stream",
     "text": [
      "False\n"
     ]
    }
   ],
   "source": [
    "x = 7\n",
    "y = 7 % 3\n",
    "\n",
    "print(x <= y)"
   ]
  },
  {
   "cell_type": "markdown",
   "id": "969e9e93",
   "metadata": {},
   "source": [
    "### LOGICAL OR BOOLEAN OPERATORS"
   ]
  },
  {
   "cell_type": "markdown",
   "id": "91b882cb",
   "metadata": {},
   "source": [
    "The logical or boolean operators are used to combine comparisons together. In practical applications, there is often a need to check for more than one condition. Sometimes, we want to check if a particular condition is True or False and still check if another condition is True or False all at same go. For an example, We will want to check if a student has earned credit in Mathematics and also earned credit in English to be admitted into Nigerian university. In this case, we will require the Logical operators.\n",
    "\n",
    "There are three logical operators. The <b> AND </b>, <b> OR </b> and <b> NOT </b> operators"
   ]
  },
  {
   "cell_type": "markdown",
   "id": "d662a373",
   "metadata": {},
   "source": [
    "#### The AND Operator"
   ]
  },
  {
   "cell_type": "markdown",
   "id": "4309997f",
   "metadata": {},
   "source": [
    "<table>\n",
    "     <tr>\n",
    "         <th> Left Expression </th>\n",
    "         <th> Right Expression </th>\n",
    "         <th> Output </th>\n",
    "     </tr>\n",
    "    <tr>\n",
    "         <th> True </th>\n",
    "         <th> False </th>\n",
    "         <th> False </th>\n",
    "     </tr>\n",
    "    <tr>\n",
    "         <th> False </th>\n",
    "         <th> True </th>\n",
    "         <th> False </th>\n",
    "     </tr>\n",
    "    <tr>\n",
    "         <th> False </th>\n",
    "         <th> False </th>\n",
    "         <th> False </th>\n",
    "     </tr>\n",
    "    <tr>\n",
    "         <th> True </th>\n",
    "         <th> True </th>\n",
    "         <th> True </th>\n",
    "     </tr>\n",
    "</table>"
   ]
  },
  {
   "cell_type": "markdown",
   "id": "f2003295",
   "metadata": {},
   "source": [
    "The AND operator will only evaluate to True if both the left hand expression and right hand expressions are both  True. Any other combination will be False."
   ]
  },
  {
   "cell_type": "code",
   "execution_count": 35,
   "id": "ab1dfd56",
   "metadata": {},
   "outputs": [
    {
     "name": "stdout",
     "output_type": "stream",
     "text": [
      "True\n"
     ]
    }
   ],
   "source": [
    "x = 7\n",
    "y = 3\n",
    "z = 5\n",
    "\n",
    "print((x > y) and (y < z))"
   ]
  },
  {
   "cell_type": "markdown",
   "id": "6786848b",
   "metadata": {},
   "source": [
    "There are two expressions joined together with the logical and operator; x > y which will evaluate to True because 7 is greater than 3 and y < z which will also Evaluate to True because 3 is less than 5. The left and the right hand side of the AND operator will both be True. Hence, the entire expression will evaluate to True."
   ]
  },
  {
   "cell_type": "code",
   "execution_count": 36,
   "id": "ac2ff20a",
   "metadata": {},
   "outputs": [
    {
     "name": "stdout",
     "output_type": "stream",
     "text": [
      "False\n"
     ]
    }
   ],
   "source": [
    "x = 5 * 3\n",
    "y = 15 / 3\n",
    "z = x + y\n",
    "\n",
    "print((z < y) and (x > y))"
   ]
  },
  {
   "cell_type": "markdown",
   "id": "b9d152e6",
   "metadata": {},
   "source": [
    "In contrast to the first example, this example have the left hand size evaluating to False and the right hand side evaluating to True. Recall, that both sides of an AND operator must be True for it to evaluate to True. This example doesnt satisfy the condition. Hence, it evaluates to False."
   ]
  },
  {
   "cell_type": "markdown",
   "id": "da0bfc82",
   "metadata": {},
   "source": [
    "#### The OR Operator"
   ]
  },
  {
   "cell_type": "markdown",
   "id": "775265f7",
   "metadata": {},
   "source": [
    "<table>\n",
    "     <tr>\n",
    "         <th> Left Expression </th>\n",
    "         <th> Right Expression </th>\n",
    "         <th> Output </th>\n",
    "     </tr>\n",
    "    <tr>\n",
    "         <th> True </th>\n",
    "         <th> False </th>\n",
    "         <th> True </th>\n",
    "     </tr>\n",
    "    <tr>\n",
    "         <th> False </th>\n",
    "         <th> True </th>\n",
    "         <th> True </th>\n",
    "     </tr>\n",
    "    <tr>\n",
    "         <th> False </th>\n",
    "         <th> False </th>\n",
    "         <th> False </th>\n",
    "     </tr>\n",
    "    <tr>\n",
    "         <th> True </th>\n",
    "         <th> True </th>\n",
    "         <th> True </th>\n",
    "     </tr>\n",
    "</table>"
   ]
  },
  {
   "cell_type": "markdown",
   "id": "7f25ffa3",
   "metadata": {},
   "source": [
    "For the OR logical operator, should any of the left or right expresssion evaluates to True, then the OR operator will result to a True."
   ]
  },
  {
   "cell_type": "code",
   "execution_count": 38,
   "id": "85e948f3",
   "metadata": {},
   "outputs": [
    {
     "name": "stdout",
     "output_type": "stream",
     "text": [
      "True\n"
     ]
    }
   ],
   "source": [
    "x = 7\n",
    "y = 3\n",
    "z = 5\n",
    "\n",
    "print((x > y) or (y < z))"
   ]
  },
  {
   "cell_type": "markdown",
   "id": "3ee12cfc",
   "metadata": {},
   "source": [
    "Both sides of the OR operator are True. Hence, we should expect the output to be True"
   ]
  },
  {
   "cell_type": "code",
   "execution_count": 40,
   "id": "cc0d04bb",
   "metadata": {},
   "outputs": [
    {
     "name": "stdout",
     "output_type": "stream",
     "text": [
      "True\n"
     ]
    }
   ],
   "source": [
    "x = 5 * 3\n",
    "y = 15 / 3\n",
    "z = x + y\n",
    "\n",
    "print((z < y) or (x > y))"
   ]
  },
  {
   "cell_type": "markdown",
   "id": "4c798a16",
   "metadata": {},
   "source": [
    "For this example, we can see that we got a True, that is because one of the left or right hand of the expression evaluates to True."
   ]
  },
  {
   "cell_type": "markdown",
   "id": "452ab9f0",
   "metadata": {},
   "source": [
    "#### The NOT Operator"
   ]
  },
  {
   "cell_type": "markdown",
   "id": "a81fb6b8",
   "metadata": {},
   "source": [
    "The NOT operator negates a boolean value. Unlike the AND and OR operators which evaluates two boolean values at the left and right hand side, the NOT operator only take in one boolean value. If the boolean value is True, then NOT operator evaluates to False. The intuition is, if it is NOT True.... Then it is False. "
   ]
  },
  {
   "cell_type": "code",
   "execution_count": 43,
   "id": "954d83b4",
   "metadata": {},
   "outputs": [
    {
     "name": "stdout",
     "output_type": "stream",
     "text": [
      "True\n"
     ]
    }
   ],
   "source": [
    "x = 5\n",
    "print(not x > 10)"
   ]
  },
  {
   "cell_type": "markdown",
   "id": "8566328f",
   "metadata": {},
   "source": [
    "Although, we are sure that x is not greater than 10 because x is 5. But our result is still True because we have a NOT operator on the expression which negates the original False to True"
   ]
  },
  {
   "cell_type": "markdown",
   "id": "fb99336d",
   "metadata": {},
   "source": [
    "# EXERCISES 2\n",
    "\n",
    "### Instruction\n",
    "All the expressions in this exercise will give an error by default. Replace the ellipses (...) in the code such that the code prints True for all the code samples. For an instance, x = 4 y = 5, x ... y. You can change the ... to < to evaluate to True. <span style=\"color:red\"> Please for this example, do not modify the variable values. just change the epsilon to a comparison or logical operator </span>"
   ]
  },
  {
   "cell_type": "code",
   "execution_count": null,
   "id": "10778d90",
   "metadata": {},
   "outputs": [],
   "source": [
    "x = 5\n",
    "y = 4\n",
    "z = 3\n",
    "m = (x > y) ... (y < z)\n",
    "\n",
    "print(m)"
   ]
  },
  {
   "cell_type": "code",
   "execution_count": null,
   "id": "5c333e43",
   "metadata": {},
   "outputs": [],
   "source": [
    "x = (3 * 5) + 7\n",
    "z = 4 + 5\n",
    "\n",
    "print((x > z) ... (y == z))"
   ]
  },
  {
   "cell_type": "code",
   "execution_count": null,
   "id": "a5499ad2",
   "metadata": {},
   "outputs": [],
   "source": [
    "x = 15\n",
    "y = 4\n",
    "z = 9\n",
    "m = (x < y) ... (y < z) ... (z == y)\n",
    "\n",
    "print(m)"
   ]
  },
  {
   "cell_type": "code",
   "execution_count": null,
   "id": "a74173a5",
   "metadata": {},
   "outputs": [],
   "source": [
    "x = 25\n",
    "print(... x < 15)"
   ]
  },
  {
   "cell_type": "markdown",
   "id": "6631e605",
   "metadata": {},
   "source": [
    "### CONDITIONAL STATEMENTS"
   ]
  },
  {
   "cell_type": "markdown",
   "id": "00a0dfe5",
   "metadata": {},
   "source": [
    "Conditional statements are program flow control statements. Recall that in our first class, we pointed out that the python code will be executed line after line in order expect if there are clear statements forcing them to adopt a different order. Such statements are called python flow control statements and Conditional statements is one of them. The conditional statement is used to execute or ignore <b> blocks </b> of code based on condititions. "
   ]
  },
  {
   "cell_type": "markdown",
   "id": "30ce02c8",
   "metadata": {},
   "source": [
    "#### Syntax of conditional statements"
   ]
  },
  {
   "cell_type": "markdown",
   "id": "dafd4232",
   "metadata": {},
   "source": [
    "<pre> \n",
    "if condition:\n",
    "    block of code\n",
    "else:\n",
    "    block of code\n",
    "</pre>\n",
    "\n",
    "The conditional statement begins with a keyword if. Then it is followed by any condition which can evaluate to True or False. The : and the end indicates that it is expecting a block of code after the codition. To specify a block, we use indentation. All the codes under the if statement which have same indentation level will be executed if the condition evaluates to True or they will be ignored if the condition evaluates to False. Should the condition evaluate to False, then the else block of code is executed.\n",
    "\n",
    "Often times, you will want your program to do something when some conditions is satisfied or to pick between two alternative actions based on a condition. Then if statements are the go to for such problems."
   ]
  },
  {
   "cell_type": "code",
   "execution_count": 44,
   "id": "2ba977cf",
   "metadata": {},
   "outputs": [
    {
     "name": "stdout",
     "output_type": "stream",
     "text": [
      "We are Sorry.... You are not old enough. Come back in few years time when you are old enough\n"
     ]
    }
   ],
   "source": [
    "age = 10\n",
    "allowed_age = 18\n",
    "\n",
    "if age >= allowed_age:\n",
    "    print(\"Welcome... You are old enough to use this program\")\n",
    "else:\n",
    "    print(\"We are Sorry.... You are not old enough. Come back in few years time when you are old enough\")"
   ]
  },
  {
   "cell_type": "markdown",
   "id": "4b558625",
   "metadata": {},
   "source": [
    "A look at the code above indicates that the first print statement was ignored. Why? That is because, the specified condition in the if statement requires age to be eighter greater than the allowed age which is 18 or equal to the allowed age. But the age value is 10 which is less than the allowed age. Hence the condition will evaluate to False. Meaning, it will skip the block of code inside the if statement and execute the block inside the else.\n",
    "\n",
    "You can modify the values of the age and allowed age to see how the condition will work."
   ]
  },
  {
   "cell_type": "code",
   "execution_count": 45,
   "id": "b0e2625a",
   "metadata": {},
   "outputs": [
    {
     "name": "stdout",
     "output_type": "stream",
     "text": [
      "Condition Satisfied\n"
     ]
    }
   ],
   "source": [
    "x = 15\n",
    "y = 24\n",
    "z = 30\n",
    "\n",
    "if (x < y) and (y < z):\n",
    "    print('Condition Satisfied')\n",
    "else:\n",
    "    print('Condition is not Satisfied')"
   ]
  },
  {
   "cell_type": "markdown",
   "id": "68931dc1",
   "metadata": {},
   "source": [
    "The condition in the if statement evaluates to True. Hence, the reason why the if block statement was executed and the else block ignored.\n",
    "\n",
    "Lets use a sales example. You would want your application to approve a bid for your product if the bid price is greater than the price you bought a product. Lets write a program which will print Bid approved if the bid is greater than the cost else deny the bid."
   ]
  },
  {
   "cell_type": "markdown",
   "id": "d1aebe7b",
   "metadata": {},
   "source": [
    "cost = 300\n",
    "bid = int(input('Enter your bid: '))\n",
    "\n",
    "if bid > cost:\n",
    "    print('Bid Accepted')\n",
    "else:\n",
    "    print('Bid Denied')"
   ]
  },
  {
   "cell_type": "markdown",
   "id": "429f4169",
   "metadata": {},
   "source": [
    "### The Elif statement"
   ]
  },
  {
   "cell_type": "markdown",
   "id": "fa048a30",
   "metadata": {},
   "source": [
    "The elif stands for \"else if\" and it is a modification of the if statement to accept multiple different conditions. If this condition if not True, check another condition, if that is not true, then check another condition until all the conditions are false, then it executes the else statement.\n",
    "\n",
    "<pre> \n",
    "if condition:\n",
    "    block of code\n",
    "elif condition:\n",
    "    block of code\n",
    "else:\n",
    "    block of code\n",
    "</pre>\n",
    "\n",
    "Instead of just checking if the first condition is true and executing the else if it is not, there are some times when we will need to check other conditions before we result to the else statements.\n",
    "\n",
    "For an example, we want to print the grade of a student from their score."
   ]
  },
  {
   "cell_type": "code",
   "execution_count": 48,
   "id": "e0033d53",
   "metadata": {},
   "outputs": [
    {
     "name": "stdout",
     "output_type": "stream",
     "text": [
      "Enter Your Score: 75\n",
      "Your grade is A\n"
     ]
    }
   ],
   "source": [
    "score = int(input(\"Enter Your Score: \"))\n",
    "\n",
    "if score >= 70:\n",
    "    print(\"Your grade is A\")\n",
    "elif score >= 60:\n",
    "    print(\"Your grade is B\")\n",
    "elif score >= 50:\n",
    "    print(\"Your grade is C\")\n",
    "elif score >= 40:\n",
    "    print(\"Your grade is D\")\n",
    "elif score >= 35:\n",
    "    print(\"Your grade is E\")\n",
    "else:\n",
    "    print(\"F\")"
   ]
  },
  {
   "cell_type": "markdown",
   "id": "ba6c0b66",
   "metadata": {},
   "source": [
    "The program above will check the condition in the if statement. If that is True, then the code block under if will be executed and the other statements will be ignored. If the first statement isnt True, it checks the second, if it isnt true, it checks the third, then the fourth, in that order. If none of the conditions was True, then it will result to executing the else block."
   ]
  },
  {
   "cell_type": "markdown",
   "id": "57c7a0d0",
   "metadata": {},
   "source": [
    "### Nested if statements"
   ]
  },
  {
   "cell_type": "markdown",
   "id": "b1628a40",
   "metadata": {},
   "source": [
    "You can also have an if statement inside another if statement. Depending on the complexity of task you want to perform. For an instance, Suppose we part of an olympic selection team and the criteria for selecting participants are as follows:\n",
    "- Participants who are 18 and above are qualified to participate except in cases where they weight above 75kg\n",
    "- Participants who are not 18 must be at least 5.4m tall to compensate for their deficit in age. No weight restrictions for this group because they already have age disadvantage.\n",
    "- Those who are not 18 and are not 5.4m tall must weight at least 80kg.\n",
    "\n",
    "We want to write a program to enable applicants input their age, height and weight to check if they are qualified. Although, we can use if... elif... else statement. But i will use a nested if here for demonstration."
   ]
  },
  {
   "cell_type": "code",
   "execution_count": 49,
   "id": "ae85e8d9",
   "metadata": {},
   "outputs": [
    {
     "name": "stdout",
     "output_type": "stream",
     "text": [
      "Enter your Age: 20\n",
      "Enter your Height: 4.7\n",
      "Enter your Weight: 54\n",
      "You are Qualified to participate\n"
     ]
    }
   ],
   "source": [
    "age = int(input(\"Enter your Age: \"))\n",
    "height = float(input(\"Enter your Height: \"))\n",
    "weight = int(input(\"Enter your Weight: \"))\n",
    "\n",
    "if age > 18:\n",
    "    if weight < 75:\n",
    "        print(\"You are Qualified to participate\")\n",
    "    else:\n",
    "        print(\"Sorry.. You are not qualified. You weight above the required weight.\")\n",
    "else:\n",
    "    if height > 5.4:\n",
    "        print(\"You are underaged though. But you are qualified to participate due to your height\")\n",
    "    else:\n",
    "        if weight > 80:\n",
    "            print(\"You are underaged and lack the height though. But you are qualified to participate due to your weight\")\n",
    "        else:\n",
    "            print(\"Sorry.. You are not qualified. You do not satisfy any of our required metric. \")"
   ]
  },
  {
   "cell_type": "markdown",
   "id": "b7ca6704",
   "metadata": {},
   "source": [
    "# EXERCISES 3\n",
    "\n",
    "### Instruction 1\n",
    "1. A bank has three classes of customers. The Level 1, the Level 2 and the Level 3. These classes are dependent on the customers account balance. Here are the class descriptions.\n",
    "- Level 1: Customers who have 30000 and above in their account.\n",
    "- Level 2: Customers who have 1000 and above.\n",
    "- Level 3: Customers who have below 1000.\n",
    "\n",
    "Complete the python code below such that the program prints the classes of a customer based on the amount entered."
   ]
  },
  {
   "cell_type": "code",
   "execution_count": null,
   "id": "2b33ef13",
   "metadata": {},
   "outputs": [],
   "source": [
    "acc_balance = int(input(\"Enter your account Balance: \"))\n",
    "\n",
    "if ............. :\n",
    "    print(\"You are a Level 1 customer\")\n",
    "    \n",
    "elif ............:\n",
    "    print(\"You are a Level 2 customer\")\n",
    "\n",
    "else:\n",
    "    ............."
   ]
  },
  {
   "cell_type": "markdown",
   "id": "cae34cba",
   "metadata": {},
   "source": [
    "# Additonal resources"
   ]
  },
  {
   "cell_type": "markdown",
   "id": "c580357e",
   "metadata": {},
   "source": [
    "## IF statement"
   ]
  },
  {
   "cell_type": "code",
   "execution_count": 58,
   "id": "bb554c76",
   "metadata": {
    "scrolled": true
   },
   "outputs": [
    {
     "data": {
      "text/html": [
       "<iframe width=\"100%\" height=\"500px\" src=\"https://www.youtube.com/embed/II5WTVvryvk\" title=\"YouTube video player\" frameborder=\"0\" allow=\"accelerometer; autoplay; clipboard-write; encrypted-media; gyroscope; picture-in-picture; web-share\" allowfullscreen></iframe>\n"
      ],
      "text/plain": [
       "<IPython.core.display.HTML object>"
      ]
     },
     "metadata": {},
     "output_type": "display_data"
    }
   ],
   "source": [
    "%%HTML\n",
    "<iframe width=\"100%\" height=\"500px\" src=\"https://www.youtube.com/embed/II5WTVvryvk\" title=\"YouTube video player\" frameborder=\"0\" allow=\"accelerometer; autoplay; clipboard-write; encrypted-media; gyroscope; picture-in-picture; web-share\" allowfullscreen></iframe>"
   ]
  },
  {
   "cell_type": "markdown",
   "id": "fa53117a",
   "metadata": {},
   "source": [
    "## if.... else statements "
   ]
  },
  {
   "cell_type": "code",
   "execution_count": 60,
   "id": "0c730ee9",
   "metadata": {},
   "outputs": [
    {
     "data": {
      "text/html": [
       "<iframe width=\"100%\" height=\"500px\" src=\"https://www.youtube.com/embed/g1maz1ynR74\" title=\"YouTube video player\" frameborder=\"0\" allow=\"accelerometer; autoplay; clipboard-write; encrypted-media; gyroscope; picture-in-picture; web-share\" allowfullscreen></iframe>\n"
      ],
      "text/plain": [
       "<IPython.core.display.HTML object>"
      ]
     },
     "metadata": {},
     "output_type": "display_data"
    }
   ],
   "source": [
    "%%HTML\n",
    "<iframe width=\"100%\" height=\"500px\" src=\"https://www.youtube.com/embed/g1maz1ynR74\" title=\"YouTube video player\" frameborder=\"0\" allow=\"accelerometer; autoplay; clipboard-write; encrypted-media; gyroscope; picture-in-picture; web-share\" allowfullscreen></iframe>"
   ]
  },
  {
   "cell_type": "code",
   "execution_count": null,
   "id": "a3abe9a8",
   "metadata": {},
   "outputs": [],
   "source": []
  }
 ],
 "metadata": {
  "kernelspec": {
   "display_name": "Python 3 (ipykernel)",
   "language": "python",
   "name": "python3"
  },
  "language_info": {
   "codemirror_mode": {
    "name": "ipython",
    "version": 3
   },
   "file_extension": ".py",
   "mimetype": "text/x-python",
   "name": "python",
   "nbconvert_exporter": "python",
   "pygments_lexer": "ipython3",
   "version": "3.10.9"
  }
 },
 "nbformat": 4,
 "nbformat_minor": 5
}
