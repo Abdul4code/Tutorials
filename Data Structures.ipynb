{
 "cells": [
  {
   "cell_type": "markdown",
   "id": "a608c096",
   "metadata": {},
   "source": [
    "# DATA STRUCTURES"
   ]
  },
  {
   "cell_type": "markdown",
   "id": "6f889779",
   "metadata": {},
   "source": [
    "Data structures are containers or collections of data that organize and group data types together in different ways. You can think of data structures as file folders that have organized files of data inside them.\n",
    "\n",
    "TYPES:\n",
    "1. Lists\n",
    "2. Tupples\n",
    "3. Sets\n",
    "4. Dictionaries"
   ]
  },
  {
   "cell_type": "markdown",
   "id": "65b66c6d",
   "metadata": {},
   "source": [
    "## LISTS, TUPPLES AND SETS"
   ]
  },
  {
   "cell_type": "markdown",
   "id": "8d5ec004",
   "metadata": {},
   "source": [
    "### Lists"
   ]
  },
  {
   "cell_type": "markdown",
   "id": "ca4762c7",
   "metadata": {},
   "source": [
    "A list is one of the most common and basic data structures in Python.\n",
    "\n",
    "You can create a list with square brackets. Lists can contain any mix and match of the data types you have seen so far."
   ]
  },
  {
   "cell_type": "markdown",
   "id": "ff161b7d",
   "metadata": {},
   "source": [
    "Examples: "
   ]
  },
  {
   "cell_type": "code",
   "execution_count": 2,
   "id": "1091995f",
   "metadata": {},
   "outputs": [],
   "source": [
    "list_of_random_things = [1, 3.4, 'a string', True]"
   ]
  },
  {
   "cell_type": "code",
   "execution_count": 3,
   "id": "1b394730",
   "metadata": {},
   "outputs": [
    {
     "data": {
      "text/plain": [
       "[1, 3.4, 'a string', True]"
      ]
     },
     "execution_count": 3,
     "metadata": {},
     "output_type": "execute_result"
    }
   ],
   "source": [
    "list_of_random_things"
   ]
  },
  {
   "cell_type": "code",
   "execution_count": 4,
   "id": "7ef8133e",
   "metadata": {},
   "outputs": [
    {
     "name": "stdout",
     "output_type": "stream",
     "text": [
      "<class 'list'>\n"
     ]
    }
   ],
   "source": [
    "print(type(list_of_random_things))"
   ]
  },
  {
   "cell_type": "markdown",
   "id": "66b38cba",
   "metadata": {},
   "source": [
    "This is a list of 4 elements. All ordered containers (like lists) are indexed in Python using a starting index of 0. Therefore, to pull the first value from the above list, we can write:"
   ]
  },
  {
   "cell_type": "code",
   "execution_count": 4,
   "id": "b48e0b85",
   "metadata": {},
   "outputs": [
    {
     "data": {
      "text/plain": [
       "1"
      ]
     },
     "execution_count": 4,
     "metadata": {},
     "output_type": "execute_result"
    }
   ],
   "source": [
    "list_of_random_things[0]"
   ]
  },
  {
   "cell_type": "code",
   "execution_count": 5,
   "id": "a90aa50b",
   "metadata": {},
   "outputs": [
    {
     "data": {
      "text/plain": [
       "True"
      ]
     },
     "execution_count": 5,
     "metadata": {},
     "output_type": "execute_result"
    }
   ],
   "source": [
    "list_of_random_things[3]"
   ]
  },
  {
   "cell_type": "markdown",
   "id": "a293c915",
   "metadata": {},
   "source": [
    "Alternatively, you can index from the end of a list by using negative values, where -1 is the last element, -2 is the second to last element and so on."
   ]
  },
  {
   "cell_type": "code",
   "execution_count": 6,
   "id": "4897d926",
   "metadata": {},
   "outputs": [
    {
     "data": {
      "text/plain": [
       "True"
      ]
     },
     "execution_count": 6,
     "metadata": {},
     "output_type": "execute_result"
    }
   ],
   "source": [
    "list_of_random_things[-1]"
   ]
  },
  {
   "cell_type": "code",
   "execution_count": 7,
   "id": "46eb02be",
   "metadata": {},
   "outputs": [
    {
     "data": {
      "text/plain": [
       "'a string'"
      ]
     },
     "execution_count": 7,
     "metadata": {},
     "output_type": "execute_result"
    }
   ],
   "source": [
    "list_of_random_things[-2]"
   ]
  },
  {
   "cell_type": "markdown",
   "id": "8406d374",
   "metadata": {},
   "source": [
    "### Slice and Dice with Lists"
   ]
  },
  {
   "cell_type": "markdown",
   "id": "bdb8c831",
   "metadata": {},
   "source": [
    "You saw that we can pull more than one value from a list at a time by using slicing. When using slicing, it is important to remember that the lower index is inclusive and the upper index is exclusive."
   ]
  },
  {
   "cell_type": "code",
   "execution_count": 1,
   "id": "aa5daa55",
   "metadata": {},
   "outputs": [],
   "source": [
    "list_of_random_things = [1, 3.4, 'a string', True]"
   ]
  },
  {
   "cell_type": "code",
   "execution_count": 9,
   "id": "aae1b8c4",
   "metadata": {},
   "outputs": [
    {
     "data": {
      "text/plain": [
       "[1, 3.4, 'a string', True]"
      ]
     },
     "execution_count": 9,
     "metadata": {},
     "output_type": "execute_result"
    }
   ],
   "source": [
    "list_of_random_things[0:4]"
   ]
  },
  {
   "cell_type": "code",
   "execution_count": 10,
   "id": "476c7688",
   "metadata": {},
   "outputs": [
    {
     "data": {
      "text/plain": [
       "[3.4, 'a string']"
      ]
     },
     "execution_count": 10,
     "metadata": {},
     "output_type": "execute_result"
    }
   ],
   "source": [
    "list_of_random_things[1:3]"
   ]
  },
  {
   "cell_type": "code",
   "execution_count": 11,
   "id": "e356982c",
   "metadata": {},
   "outputs": [
    {
     "data": {
      "text/plain": [
       "[3.4, 'a string', True]"
      ]
     },
     "execution_count": 11,
     "metadata": {},
     "output_type": "execute_result"
    }
   ],
   "source": [
    "list_of_random_things[1:]"
   ]
  },
  {
   "cell_type": "code",
   "execution_count": 16,
   "id": "76f3b31e",
   "metadata": {},
   "outputs": [],
   "source": [
    "months = [\"January\", \"February\", \"March\", \"April\", \"May\", \"June\", \"July\", \"August\", \"September\", \"October\", \"November\", \"December\"]\n"
   ]
  },
  {
   "cell_type": "code",
   "execution_count": 18,
   "id": "e246e615",
   "metadata": {},
   "outputs": [
    {
     "data": {
      "text/plain": [
       "['January', 'February', 'March']"
      ]
     },
     "execution_count": 18,
     "metadata": {},
     "output_type": "execute_result"
    }
   ],
   "source": [
    "fist_quarter = months[0:3]\n",
    "fist_quarter"
   ]
  },
  {
   "cell_type": "markdown",
   "id": "19b7679b",
   "metadata": {},
   "source": [
    "# Assignment 1"
   ]
  },
  {
   "cell_type": "markdown",
   "id": "135eb34d",
   "metadata": {},
   "source": [
    "Using list slicing, obtain:\n",
    "\n",
    "a. Second quarter\n",
    "\n",
    "b. Third quarter\n",
    "\n",
    "c. Four quarter\n",
    "\n",
    "d. First half of the year\n",
    "\n",
    "e. Last half of the year"
   ]
  },
  {
   "cell_type": "markdown",
   "id": "b7cfa704",
   "metadata": {},
   "source": [
    "### Using \"in\" and \"not in\" in lists"
   ]
  },
  {
   "cell_type": "code",
   "execution_count": 14,
   "id": "b04591a6",
   "metadata": {},
   "outputs": [
    {
     "data": {
      "text/plain": [
       "True"
      ]
     },
     "execution_count": 14,
     "metadata": {},
     "output_type": "execute_result"
    }
   ],
   "source": [
    "6 in [1, 2, 3, 4, 6]"
   ]
  },
  {
   "cell_type": "code",
   "execution_count": 15,
   "id": "69e03c09",
   "metadata": {},
   "outputs": [
    {
     "data": {
      "text/plain": [
       "False"
      ]
     },
     "execution_count": 15,
     "metadata": {},
     "output_type": "execute_result"
    }
   ],
   "source": [
    "7 in [1, 2, 3, 4, 6]"
   ]
  },
  {
   "cell_type": "code",
   "execution_count": 12,
   "id": "ccc4e03f",
   "metadata": {},
   "outputs": [
    {
     "data": {
      "text/plain": [
       "True"
      ]
     },
     "execution_count": 12,
     "metadata": {},
     "output_type": "execute_result"
    }
   ],
   "source": [
    "5 not in [1, 2, 3, 4, 6]"
   ]
  },
  {
   "cell_type": "markdown",
   "id": "04d0d1ad",
   "metadata": {},
   "source": [
    "### Mutability and Order\n"
   ]
  },
  {
   "cell_type": "markdown",
   "id": "51e3a22b",
   "metadata": {},
   "source": [
    "Mutability refers to whether or not we can change an object once it has been created. If an object can be changed, it is called mutable. However, if an object cannot be changed after it has been created, then the object is considered immutable.\n",
    "\n",
    "Lists are mutable and ordered"
   ]
  },
  {
   "cell_type": "code",
   "execution_count": 22,
   "id": "a4051693",
   "metadata": {},
   "outputs": [
    {
     "name": "stdout",
     "output_type": "stream",
     "text": [
      "['one', 2, 3, 4, 5]\n"
     ]
    }
   ],
   "source": [
    "my_lst = [1, 2, 3, 4, 5]\n",
    "my_lst[0] = 'one'\n",
    "print(my_lst)"
   ]
  },
  {
   "cell_type": "markdown",
   "id": "0dbf16c8",
   "metadata": {},
   "source": [
    "Order is about whether the position of an element in the object can be used to access the element."
   ]
  },
  {
   "cell_type": "markdown",
   "id": "dd629157",
   "metadata": {},
   "source": [
    "### List methods"
   ]
  },
  {
   "cell_type": "markdown",
   "id": "3b851c05",
   "metadata": {},
   "source": [
    "1. len() returns how many elements are in a list.\n",
    "\n",
    "2. max() returns the greatest element of the list. How the greatest element is determined depends on what type of objects are in the list. The maximum element in a list of numbers is the largest number. The maximum element in a list of strings is the element that would occur last if the list were sorted alphabetically. This works because the the max() function is defined in terms of the greater than comparison operator. The max() function is undefined for lists that contain elements from different, incomparable types.\n",
    "\n",
    "3. min() returns the smallest element in a list. min is the opposite of max.\n",
    "\n",
    "4. sorted() returns a copy of a list in order from smallest to largest, leaving the list unchanged.\n",
    "\n"
   ]
  },
  {
   "cell_type": "code",
   "execution_count": 24,
   "id": "e403ebc9",
   "metadata": {},
   "outputs": [
    {
     "data": {
      "text/plain": [
       "12"
      ]
     },
     "execution_count": 24,
     "metadata": {},
     "output_type": "execute_result"
    }
   ],
   "source": [
    "len(months)"
   ]
  },
  {
   "cell_type": "code",
   "execution_count": 25,
   "id": "cb517c36",
   "metadata": {},
   "outputs": [
    {
     "data": {
      "text/plain": [
       "'September'"
      ]
     },
     "execution_count": 25,
     "metadata": {},
     "output_type": "execute_result"
    }
   ],
   "source": [
    "max(months)"
   ]
  },
  {
   "cell_type": "code",
   "execution_count": 27,
   "id": "940c9989",
   "metadata": {},
   "outputs": [
    {
     "data": {
      "text/plain": [
       "5"
      ]
     },
     "execution_count": 27,
     "metadata": {},
     "output_type": "execute_result"
    }
   ],
   "source": [
    "my_lst = [1, 2, 3, 4, 5]\n",
    "max(my_lst)"
   ]
  },
  {
   "cell_type": "code",
   "execution_count": 28,
   "id": "9f488b63",
   "metadata": {},
   "outputs": [
    {
     "data": {
      "text/plain": [
       "'April'"
      ]
     },
     "execution_count": 28,
     "metadata": {},
     "output_type": "execute_result"
    }
   ],
   "source": [
    "min(months)"
   ]
  },
  {
   "cell_type": "code",
   "execution_count": 29,
   "id": "1002ca6d",
   "metadata": {},
   "outputs": [
    {
     "data": {
      "text/plain": [
       "['April',\n",
       " 'August',\n",
       " 'December',\n",
       " 'February',\n",
       " 'January',\n",
       " 'July',\n",
       " 'June',\n",
       " 'March',\n",
       " 'May',\n",
       " 'November',\n",
       " 'October',\n",
       " 'September']"
      ]
     },
     "execution_count": 29,
     "metadata": {},
     "output_type": "execute_result"
    }
   ],
   "source": [
    "sorted(months)"
   ]
  },
  {
   "cell_type": "markdown",
   "id": "91fa07f0",
   "metadata": {},
   "source": [
    "### Append method\n",
    "A helpful method called append adds an element to the end of a list."
   ]
  },
  {
   "cell_type": "code",
   "execution_count": 30,
   "id": "73b41c64",
   "metadata": {},
   "outputs": [],
   "source": [
    "letters = ['a', 'b', 'c', 'd']\n",
    "letters.append('z')"
   ]
  },
  {
   "cell_type": "code",
   "execution_count": 31,
   "id": "79d7b682",
   "metadata": {},
   "outputs": [
    {
     "data": {
      "text/plain": [
       "['a', 'b', 'c', 'd', 'z']"
      ]
     },
     "execution_count": 31,
     "metadata": {},
     "output_type": "execute_result"
    }
   ],
   "source": [
    "letters"
   ]
  },
  {
   "cell_type": "markdown",
   "id": "85e49331",
   "metadata": {},
   "source": [
    "# Assignment 2"
   ]
  },
  {
   "cell_type": "markdown",
   "id": "79123e12",
   "metadata": {},
   "source": [
    "Choose the correct syntax to slice each of the following elements from the list: arr = ['a', 'b', 'c', 'd', 'e', 'f', 'g']"
   ]
  },
  {
   "cell_type": "markdown",
   "id": "b4907af6",
   "metadata": {},
   "source": [
    "1. ['c', 'd', 'e', 'f']\n",
    "2. ['a', 'b', 'c']\n",
    "3. ['e', 'f', 'g']\n",
    "4. ['a', 'b', 'c', 'd', 'e', 'f', 'g', 'z']\n",
    "5. ['a']  --------                                                     Ans: arr[0]"
   ]
  },
  {
   "cell_type": "markdown",
   "id": "a6049021",
   "metadata": {},
   "source": [
    "## Tuples"
   ]
  },
  {
   "cell_type": "markdown",
   "id": "a2943f02",
   "metadata": {},
   "source": [
    "A tuple is another useful container. It's a data type for immutable ordered sequences of elements. They are often used to store related pieces of information. \n",
    "\n",
    "Tuples are similar to lists in that they store an ordered collection of objects which can be accessed by their indices. Unlike lists, however, tuples are immutable - you can't add and remove items from tuples, or sort them in place.\n",
    "\n",
    "Example:"
   ]
  },
  {
   "cell_type": "code",
   "execution_count": 33,
   "id": "02db17c8",
   "metadata": {},
   "outputs": [
    {
     "data": {
      "text/plain": [
       "tuple"
      ]
     },
     "execution_count": 33,
     "metadata": {},
     "output_type": "execute_result"
    }
   ],
   "source": [
    "vnicom =(1,4)\n",
    "type(vnicom)\n"
   ]
  },
  {
   "cell_type": "code",
   "execution_count": 34,
   "id": "d060cf7d",
   "metadata": {},
   "outputs": [
    {
     "data": {
      "text/plain": [
       "1"
      ]
     },
     "execution_count": 34,
     "metadata": {},
     "output_type": "execute_result"
    }
   ],
   "source": [
    "vnicom[0]"
   ]
  },
  {
   "cell_type": "code",
   "execution_count": 35,
   "id": "5fd1e33d",
   "metadata": {},
   "outputs": [
    {
     "ename": "TypeError",
     "evalue": "'tuple' object does not support item assignment",
     "output_type": "error",
     "traceback": [
      "\u001b[1;31m---------------------------------------------------------------------------\u001b[0m",
      "\u001b[1;31mTypeError\u001b[0m                                 Traceback (most recent call last)",
      "Cell \u001b[1;32mIn[35], line 1\u001b[0m\n\u001b[1;32m----> 1\u001b[0m \u001b[43mvnicom\u001b[49m\u001b[43m[\u001b[49m\u001b[38;5;241;43m0\u001b[39;49m\u001b[43m]\u001b[49m \u001b[38;5;241m=\u001b[39m \u001b[38;5;241m1\u001b[39m\n",
      "\u001b[1;31mTypeError\u001b[0m: 'tuple' object does not support item assignment"
     ]
    }
   ],
   "source": [
    "vnicom[0] = 5"
   ]
  },
  {
   "cell_type": "markdown",
   "id": "847852f5",
   "metadata": {},
   "source": [
    "### Sets"
   ]
  },
  {
   "cell_type": "markdown",
   "id": "4dda1882",
   "metadata": {},
   "source": [
    "A set is a data type for mutable unordered collections of unique elements. One application of a set is to quickly remove duplicates from a list. Example"
   ]
  },
  {
   "cell_type": "code",
   "execution_count": 6,
   "id": "6fdd4023",
   "metadata": {},
   "outputs": [],
   "source": [
    "timi = {2,4,6,8}"
   ]
  },
  {
   "cell_type": "code",
   "execution_count": 7,
   "id": "43d8e1a7",
   "metadata": {},
   "outputs": [
    {
     "ename": "TypeError",
     "evalue": "'set' object is not subscriptable",
     "output_type": "error",
     "traceback": [
      "\u001b[1;31m---------------------------------------------------------------------------\u001b[0m",
      "\u001b[1;31mTypeError\u001b[0m                                 Traceback (most recent call last)",
      "Cell \u001b[1;32mIn[7], line 1\u001b[0m\n\u001b[1;32m----> 1\u001b[0m \u001b[43mtimi\u001b[49m\u001b[43m[\u001b[49m\u001b[38;5;241;43m0\u001b[39;49m\u001b[43m]\u001b[49m\n",
      "\u001b[1;31mTypeError\u001b[0m: 'set' object is not subscriptable"
     ]
    }
   ],
   "source": [
    "timi[0]"
   ]
  },
  {
   "cell_type": "code",
   "execution_count": 39,
   "id": "10637757",
   "metadata": {},
   "outputs": [
    {
     "data": {
      "text/plain": [
       "True"
      ]
     },
     "execution_count": 39,
     "metadata": {},
     "output_type": "execute_result"
    }
   ],
   "source": [
    "4 in {2,4,6,8}"
   ]
  },
  {
   "cell_type": "code",
   "execution_count": 42,
   "id": "2d770b66",
   "metadata": {},
   "outputs": [
    {
     "data": {
      "text/plain": [
       "{2, 4, 6, 8, 10}"
      ]
     },
     "execution_count": 42,
     "metadata": {},
     "output_type": "execute_result"
    }
   ],
   "source": [
    "first_set.add(10)\n",
    "first_set"
   ]
  },
  {
   "cell_type": "code",
   "execution_count": 4,
   "id": "105a89a6",
   "metadata": {},
   "outputs": [],
   "source": [
    "first_set.add(25)"
   ]
  },
  {
   "cell_type": "code",
   "execution_count": 5,
   "id": "6a81f642",
   "metadata": {},
   "outputs": [
    {
     "data": {
      "text/plain": [
       "{2, 4, 6, 8, 25}"
      ]
     },
     "execution_count": 5,
     "metadata": {},
     "output_type": "execute_result"
    }
   ],
   "source": [
    "first_set"
   ]
  },
  {
   "cell_type": "code",
   "execution_count": null,
   "id": "1e9ab439",
   "metadata": {},
   "outputs": [],
   "source": []
  }
 ],
 "metadata": {
  "kernelspec": {
   "display_name": "Python 3 (ipykernel)",
   "language": "python",
   "name": "python3"
  },
  "language_info": {
   "codemirror_mode": {
    "name": "ipython",
    "version": 3
   },
   "file_extension": ".py",
   "mimetype": "text/x-python",
   "name": "python",
   "nbconvert_exporter": "python",
   "pygments_lexer": "ipython3",
   "version": "3.11.3"
  }
 },
 "nbformat": 4,
 "nbformat_minor": 5
}
